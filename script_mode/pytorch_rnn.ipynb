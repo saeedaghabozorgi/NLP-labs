{
 "cells": [
  {
   "cell_type": "markdown",
   "metadata": {},
   "source": [
    "# Word-level language modeling using PyTorch"
   ]
  },
  {
   "cell_type": "markdown",
   "metadata": {},
   "source": [
    "## Contents\n",
    "\n",
    "1. [Background](#Background)\n",
    "1. [Setup](#Setup)\n",
    "1. [Data](#Data)\n",
    "1. [Train](#Train)\n",
    "1. [Host](#Host)\n",
    "\n",
    "---\n",
    "\n",
    "## Background\n",
    "\n",
    "This example trains a multi-layer LSTM RNN model on a language modeling task based on [PyTorch example](https://github.com/pytorch/examples/tree/master/word_language_model). By default, the training script uses the Wikitext-2 dataset. We will train a model on SageMaker, deploy it, and then use deployed model to generate new text.\n",
    "\n",
    "For more information about the PyTorch in SageMaker, please visit [sagemaker-pytorch-containers](https://github.com/aws/sagemaker-pytorch-containers) and [sagemaker-python-sdk](https://github.com/aws/sagemaker-python-sdk) github repositories.\n",
    "\n",
    "---\n",
    "\n",
    "## Setup\n",
    "\n",
    "_This notebook was created and tested on an ml.p2.xlarge notebook instance._\n",
    "\n",
    "Let's start by creating a SageMaker session and specifying:\n",
    "\n",
    "- The S3 bucket and prefix that you want to use for training and model data.  This should be within the same region as the Notebook Instance, training, and hosting.\n",
    "- The IAM role arn used to give training and hosting access to your data. See [the documentation](https://docs.aws.amazon.com/sagemaker/latest/dg/sagemaker-roles.html) for how to create these.  Note, if more than one role is required for notebook instances, training, and/or hosting, please replace the sagemaker.get_execution_role() with appropriate full IAM role arn string(s).\n"
   ]
  },
  {
   "cell_type": "code",
   "execution_count": 1,
   "metadata": {},
   "outputs": [],
   "source": [
    "import sagemaker\n",
    "\n",
    "sagemaker_session = sagemaker.Session()\n",
    "\n",
    "bucket = sagemaker_session.default_bucket()\n",
    "prefix = 'sagemaker/DEMO-pytorch-rnn-lstm'\n",
    "\n",
    "role = sagemaker.get_execution_role()"
   ]
  },
  {
   "cell_type": "markdown",
   "metadata": {},
   "source": [
    "## Data\n",
    "### Getting the data\n",
    "As mentioned above we are going to use [the wikitext-2 raw data](https://www.salesforce.com/products/einstein/ai-research/the-wikitext-dependency-language-modeling-dataset/). This data is from Wikipedia and is licensed CC-BY-SA-3.0. Before you use this data for any other purpose than this example, you should understand the data license, described at https://creativecommons.org/licenses/by-sa/3.0/"
   ]
  },
  {
   "cell_type": "code",
   "execution_count": 2,
   "metadata": {},
   "outputs": [
    {
     "name": "stdout",
     "output_type": "stream",
     "text": [
      "Archive:  wikitext-2-raw-v1.zip\n",
      "   creating: wikitext-2-raw/\n",
      "  inflating: wikitext-2-raw/wiki.test.raw  \n",
      "  inflating: wikitext-2-raw/wiki.valid.raw  \n",
      "  inflating: wikitext-2-raw/wiki.train.raw  \n"
     ]
    },
    {
     "name": "stderr",
     "output_type": "stream",
     "text": [
      "--2021-05-25 18:59:16--  https://s3.amazonaws.com/research.metamind.io/wikitext/wikitext-2-raw-v1.zip\n",
      "Resolving s3.amazonaws.com (s3.amazonaws.com)... 52.217.128.200\n",
      "Connecting to s3.amazonaws.com (s3.amazonaws.com)|52.217.128.200|:443... connected.\n",
      "HTTP request sent, awaiting response... 200 OK\n",
      "Length: 4721645 (4.5M) [application/zip]\n",
      "Saving to: ‘wikitext-2-raw-v1.zip’\n",
      "\n",
      "     0K .......... .......... .......... .......... ..........  1%  102M 0s\n",
      "    50K .......... .......... .......... .......... ..........  2% 30.9M 0s\n",
      "   100K .......... .......... .......... .......... ..........  3% 47.0M 0s\n",
      "   150K .......... .......... .......... .......... ..........  4% 29.0M 0s\n",
      "   200K .......... .......... .......... .......... ..........  5% 45.0M 0s\n",
      "   250K .......... .......... .......... .......... ..........  6% 47.0M 0s\n",
      "   300K .......... .......... .......... .......... ..........  7% 31.3M 0s\n",
      "   350K .......... .......... .......... .......... ..........  8% 48.2M 0s\n",
      "   400K .......... .......... .......... .......... ..........  9% 51.4M 0s\n",
      "   450K .......... .......... .......... .......... .......... 10% 53.7M 0s\n",
      "   500K .......... .......... .......... .......... .......... 11% 50.4M 0s\n",
      "   550K .......... .......... .......... .......... .......... 13% 55.5M 0s\n",
      "   600K .......... .......... .......... .......... .......... 14% 58.3M 0s\n",
      "   650K .......... .......... .......... .......... .......... 15% 68.4M 0s\n",
      "   700K .......... .......... .......... .......... .......... 16% 89.9M 0s\n",
      "   750K .......... .......... .......... .......... .......... 17% 56.8M 0s\n",
      "   800K .......... .......... .......... .......... .......... 18% 68.3M 0s\n",
      "   850K .......... .......... .......... .......... .......... 19% 62.2M 0s\n",
      "   900K .......... .......... .......... .......... .......... 20%  120M 0s\n",
      "   950K .......... .......... .......... .......... .......... 21% 64.5M 0s\n",
      "  1000K .......... .......... .......... .......... .......... 22% 88.9M 0s\n",
      "  1050K .......... .......... .......... .......... .......... 23% 88.5M 0s\n",
      "  1100K .......... .......... .......... .......... .......... 24% 72.5M 0s\n",
      "  1150K .......... .......... .......... .......... .......... 26%  119M 0s\n",
      "  1200K .......... .......... .......... .......... .......... 27% 70.9M 0s\n",
      "  1250K .......... .......... .......... .......... .......... 28%  111M 0s\n",
      "  1300K .......... .......... .......... .......... .......... 29% 78.2M 0s\n",
      "  1350K .......... .......... .......... .......... .......... 30%  126M 0s\n",
      "  1400K .......... .......... .......... .......... .......... 31% 89.1M 0s\n",
      "  1450K .......... .......... .......... .......... .......... 32%  102M 0s\n",
      "  1500K .......... .......... .......... .......... .......... 33% 94.9M 0s\n",
      "  1550K .......... .......... .......... .......... .......... 34% 97.2M 0s\n",
      "  1600K .......... .......... .......... .......... .......... 35%  105M 0s\n",
      "  1650K .......... .......... .......... .......... .......... 36%  151M 0s\n",
      "  1700K .......... .......... .......... .......... .......... 37%  111M 0s\n",
      "  1750K .......... .......... .......... .......... .......... 39%  120M 0s\n",
      "  1800K .......... .......... .......... .......... .......... 40%  120M 0s\n",
      "  1850K .......... .......... .......... .......... .......... 41%  102M 0s\n",
      "  1900K .......... .......... .......... .......... .......... 42%  158M 0s\n",
      "  1950K .......... .......... .......... .......... .......... 43%  146M 0s\n",
      "  2000K .......... .......... .......... .......... .......... 44% 96.0M 0s\n",
      "  2050K .......... .......... .......... .......... .......... 45%  159M 0s\n",
      "  2100K .......... .......... .......... .......... .......... 46%  111M 0s\n",
      "  2150K .......... .......... .......... .......... .......... 47%  172M 0s\n",
      "  2200K .......... .......... .......... .......... .......... 48%  143M 0s\n",
      "  2250K .......... .......... .......... .......... .......... 49%  126M 0s\n",
      "  2300K .......... .......... .......... .......... .......... 50%  149M 0s\n",
      "  2350K .......... .......... .......... .......... .......... 52%  174M 0s\n",
      "  2400K .......... .......... .......... .......... .......... 53%  115M 0s\n",
      "  2450K .......... .......... .......... .......... .......... 54%  158M 0s\n",
      "  2500K .......... .......... .......... .......... .......... 55%  172M 0s\n",
      "  2550K .......... .......... .......... .......... .......... 56%  139M 0s\n",
      "  2600K .......... .......... .......... .......... .......... 57% 90.6M 0s\n",
      "  2650K .......... .......... .......... .......... .......... 58%  175M 0s\n",
      "  2700K .......... .......... .......... .......... .......... 59%  183M 0s\n",
      "  2750K .......... .......... .......... .......... .......... 60%  181M 0s\n",
      "  2800K .......... .......... .......... .......... .......... 61%  169M 0s\n",
      "  2850K .......... .......... .......... .......... .......... 62%  123M 0s\n",
      "  2900K .......... .......... .......... .......... .......... 63%  189M 0s\n",
      "  2950K .......... .......... .......... .......... .......... 65%  190M 0s\n",
      "  3000K .......... .......... .......... .......... .......... 66%  203M 0s\n",
      "  3050K .......... .......... .......... .......... .......... 67%  196M 0s\n",
      "  3100K .......... .......... .......... .......... .......... 68%  187M 0s\n",
      "  3150K .......... .......... .......... .......... .......... 69%  219M 0s\n",
      "  3200K .......... .......... .......... .......... .......... 70%  138M 0s\n",
      "  3250K .......... .......... .......... .......... .......... 71%  112M 0s\n",
      "  3300K .......... .......... .......... .......... .......... 72%  169M 0s\n",
      "  3350K .......... .......... .......... .......... .......... 73%  180M 0s\n",
      "  3400K .......... .......... .......... .......... .......... 74%  164M 0s\n",
      "  3450K .......... .......... .......... .......... .......... 75%  199M 0s\n",
      "  3500K .......... .......... .......... .......... .......... 76%  210M 0s\n",
      "  3550K .......... .......... .......... .......... .......... 78%  191M 0s\n",
      "  3600K .......... .......... .......... .......... .......... 79%  180M 0s\n",
      "  3650K .......... .......... .......... .......... .......... 80%  164M 0s\n",
      "  3700K .......... .......... .......... .......... .......... 81%  177M 0s\n",
      "  3750K .......... .......... .......... .......... .......... 82%  179M 0s\n",
      "  3800K .......... .......... .......... .......... .......... 83%  174M 0s\n",
      "  3850K .......... .......... .......... .......... .......... 84%  181M 0s\n",
      "  3900K .......... .......... .......... .......... .......... 85%  200M 0s\n",
      "  3950K .......... .......... .......... .......... .......... 86%  162M 0s\n",
      "  4000K .......... .......... .......... .......... .......... 87%  188M 0s\n",
      "  4050K .......... .......... .......... .......... .......... 88%  209M 0s\n",
      "  4100K .......... .......... .......... .......... .......... 90%  177M 0s\n",
      "  4150K .......... .......... .......... .......... .......... 91%  170M 0s\n",
      "  4200K .......... .......... .......... .......... .......... 92%  183M 0s\n",
      "  4250K .......... .......... .......... .......... .......... 93%  190M 0s\n",
      "  4300K .......... .......... .......... .......... .......... 94%  225M 0s\n",
      "  4350K .......... .......... .......... .......... .......... 95%  197M 0s\n",
      "  4400K .......... .......... .......... .......... .......... 96%  174M 0s\n",
      "  4450K .......... .......... .......... .......... .......... 97%  175M 0s\n",
      "  4500K .......... .......... .......... .......... .......... 98%  429K 0s\n",
      "  4550K .......... .......... .......... .......... .......... 99%  168M 0s\n",
      "  4600K ..........                                            100% 19.3M=0.2s\n",
      "\n",
      "2021-05-25 18:59:16 (28.0 MB/s) - ‘wikitext-2-raw-v1.zip’ saved [4721645/4721645]\n",
      "\n"
     ]
    }
   ],
   "source": [
    "%%bash\n",
    "wget https://s3.amazonaws.com/research.metamind.io/wikitext/wikitext-2-raw-v1.zip\n",
    "unzip -n wikitext-2-raw-v1.zip\n",
    "cd wikitext-2-raw\n",
    "mv wiki.test.raw test && mv wiki.train.raw train && mv wiki.valid.raw valid\n"
   ]
  },
  {
   "cell_type": "markdown",
   "metadata": {},
   "source": [
    "Let's preview what data looks like."
   ]
  },
  {
   "cell_type": "code",
   "execution_count": 3,
   "metadata": {},
   "outputs": [
    {
     "name": "stdout",
     "output_type": "stream",
     "text": [
      " \n",
      " = Valkyria Chronicles III = \n",
      " \n",
      " Senjō no Valkyria 3 : Unrecorded Chronicles ( Japanese : 戦場のヴァルキュリア3 , lit . Valkyria of the Battlefield 3 ) , commonly referred to as Valkyria Chronicles III outside Japan , is a tactical role @-@ playing video game developed by Sega and Media.Vision for the PlayStation Portable . Released in January 2011 in Japan , it is the third game in the Valkyria series . Employing the same fusion of tactical and real @-@ time gameplay as its predecessors , the story runs parallel to the first game and follows the \" Nameless \" , a penal military unit serving the nation of Gallia during the Second Europan War who perform secret black operations and are pitted against the Imperial unit \" Calamaty Raven \" . \n",
      " The game began development in 2010 , carrying over a large portion of the work done on Valkyria Chronicles II . While it retained the standard features of the series , it also underwent multiple adjustments , such as making the game more forgiving for series newcomers . Character designer Raita Honjou and composer Hitoshi Sakimoto both returned from previous entries , along with Valkyria Chronicles II director Takeshi Ozawa . A large team of writers handled the script . The game 's opening theme was sung by May 'n . \n"
     ]
    }
   ],
   "source": [
    "!head -5 wikitext-2-raw/train"
   ]
  },
  {
   "cell_type": "markdown",
   "metadata": {},
   "source": [
    "### Uploading the data to S3\n",
    "We are going to use the `sagemaker.Session.upload_data` function to upload our datasets to an S3 location. The return value inputs identifies the location -- we will use later when we start the training job.\n",
    "\n"
   ]
  },
  {
   "cell_type": "code",
   "execution_count": 4,
   "metadata": {},
   "outputs": [
    {
     "name": "stdout",
     "output_type": "stream",
     "text": [
      "input spec (in this case, just an S3 path): s3://sagemaker-us-east-1-367158743199/sagemaker/DEMO-pytorch-rnn-lstm\n"
     ]
    }
   ],
   "source": [
    "inputs = sagemaker_session.upload_data(path='wikitext-2-raw', bucket=bucket, key_prefix=prefix)\n",
    "print('input spec (in this case, just an S3 path): {}'.format(inputs))"
   ]
  },
  {
   "cell_type": "markdown",
   "metadata": {},
   "source": [
    "## Train\n",
    "### Training script\n",
    "We need to provide a training script that can run on the SageMaker platform. The training script is very similar to a training script you might run outside of SageMaker, but you can access useful properties about the training environment through various environment variables, such as:\n",
    "\n",
    "* `SM_MODEL_DIR`: A string representing the path to the directory to write model artifacts to.\n",
    "  These artifacts are uploaded to S3 for model hosting.\n",
    "* `SM_OUTPUT_DATA_DIR`: A string representing the filesystem path to write output artifacts to. Output artifacts may\n",
    "  include checkpoints, graphs, and other files to save, not including model artifacts. These artifacts are compressed\n",
    "  and uploaded to S3 to the same S3 prefix as the model artifacts.\n",
    "\n",
    "Supposing one input channel, 'training', was used in the call to the PyTorch estimator's `fit()` method,\n",
    "the following will be set, following the format `SM_CHANNEL_[channel_name]`:\n",
    "\n",
    "* `SM_CHANNEL_TRAINING`: A string representing the path to the directory containing data in the 'training' channel.\n",
    "\n",
    "A typical training script loads data from the input channels, configures training with hyperparameters, trains a model, and saves a model to `model_dir` so that it can be hosted later. Hyperparameters are passed to your script as arguments and can be retrieved with an `argparse.ArgumentParser` instance. \n",
    "\n",
    "In this notebook example, we will use Git integration. That is, you can specify a training script that is stored in a GitHub, CodeCommit or other Git repository as the entry point for the estimator, so that you don't have to download the scripts locally. If you do so, source directory and dependencies should be in the same repo if they are needed.\n",
    "\n",
    "To use Git integration, pass a dict `git_config` as a parameter when you create the `PyTorch` Estimator object. In the `git_config` parameter, you specify the fields `repo`, `branch` and `commit` to locate the specific repo you want to use. If authentication is required to access the repo, you can specify fields `2FA_enabled`, `username`, `password` and token accordingly.\n",
    "\n",
    "The script that we will use in this example is stored in GitHub repo \n",
    "[https://github.com/awslabs/amazon-sagemaker-examples/tree/training-scripts](https://github.com/awslabs/amazon-sagemaker-examples/tree/training-scripts), \n",
    "under the branch `training-scripts`. It is a public repo so we don't need authentication to access it. Let's specify the `git_config` argument here: \n"
   ]
  },
  {
   "cell_type": "code",
   "execution_count": 5,
   "metadata": {},
   "outputs": [],
   "source": [
    "git_config = {'repo': 'https://github.com/awslabs/amazon-sagemaker-examples.git', 'branch': 'training-scripts'}"
   ]
  },
  {
   "cell_type": "markdown",
   "metadata": {},
   "source": [
    "Note that we do not specify `commit` in `git_config` here, in which case the latest commit of the specified repo and branch will be used by default. \n",
    "\n",
    "A typical training script loads data from the input channels, configures training with hyperparameters, trains a model, and saves a model to `model_dir` so that it can be hosted later. Hyperparameters are passed to your script as arguments and can be retrieved with an `argparse.ArgumentParser` instance. \n",
    "\n",
    "For example, the script run by this notebook: \n",
    "[https://github.com/awslabs/amazon-sagemaker-examples/blob/training-scripts/pytorch-rnn-scripts/train.py](https://github.com/awslabs/amazon-sagemaker-examples/blob/training-scripts/pytorch-rnn-scripts/train.py). \n",
    "\n",
    "For more information about training environment variables, please visit [SageMaker Containers](https://github.com/aws/sagemaker-containers)."
   ]
  },
  {
   "cell_type": "markdown",
   "metadata": {},
   "source": [
    "In the current example we also need to provide source directory, because training script imports data and model classes from other modules. The source directory is \n",
    "[https://github.com/awslabs/amazon-sagemaker-examples/blob/training-scripts/pytorch-rnn-scripts/](https://github.com/awslabs/amazon-sagemaker-examples/blob/training-scripts/pytorch-rnn-scripts/). We should provide 'pytorch-rnn-scripts' for `source_dir` when creating the Estimator object, which is a relative path inside the Git repository. \n"
   ]
  },
  {
   "cell_type": "markdown",
   "metadata": {},
   "source": [
    "### Run training in SageMaker\n",
    "The PyTorch class allows us to run our training function as a training job on SageMaker infrastructure. We need to configure it with our training script and source directory, an IAM role, the number of training instances, and the training instance type. In this case we will run our training job on ```ml.p2.xlarge``` instance. As you can see in this example you can also specify hyperparameters. \n",
    "\n",
    "For this example, we're specifying the number of epochs to be 1 for the purposes of demonstration. We suggest at least 6 epochs for a more meaningful result.\n"
   ]
  },
  {
   "cell_type": "code",
   "execution_count": 6,
   "metadata": {},
   "outputs": [],
   "source": [
    "from sagemaker.pytorch import PyTorch\n",
    "\n",
    "estimator = PyTorch(entry_point='train.py',\n",
    "                    role=role,\n",
    "                    framework_version='1.4.0',\n",
    "                    instance_count=1,\n",
    "                    instance_type='ml.p2.xlarge',\n",
    "                    source_dir='pytorch-rnn-scripts',\n",
    "                    py_version='py3',\n",
    "                    git_config=git_config,\n",
    "                    # available hyperparameters: emsize, nhid, nlayers, lr, clip, epochs, batch_size,\n",
    "                    #                            bptt, dropout, tied, seed, log_interval\n",
    "                    hyperparameters={\n",
    "                        'epochs': 1,\n",
    "                        'tied': True\n",
    "                    })\n"
   ]
  },
  {
   "cell_type": "markdown",
   "metadata": {},
   "source": [
    "After we've constructed our PyTorch object, we can fit it using the data we uploaded to S3. SageMaker makes sure our data is available in the local filesystem, so our training script can simply read the data from disk."
   ]
  },
  {
   "cell_type": "code",
   "execution_count": null,
   "metadata": {},
   "outputs": [
    {
     "name": "stdout",
     "output_type": "stream",
     "text": [
      "2021-05-25 19:00:07 Starting - Starting the training job...\n",
      "2021-05-25 19:00:17 Starting - Launching requested ML instancesProfilerReport-1621969196: InProgress\n",
      ".........\n",
      "2021-05-25 19:01:58 Starting - Preparing the instances for training...."
     ]
    }
   ],
   "source": [
    "estimator.fit({'training': inputs})"
   ]
  },
  {
   "cell_type": "markdown",
   "metadata": {},
   "source": [
    "## Host\n",
    "### Hosting script\n",
    "We are going to provide custom implementation of `model_fn`, `input_fn`, `output_fn` and `predict_fn` hosting functions in a separate file, which is in the same Git repo as the training script: \n",
    "[https://github.com/awslabs/amazon-sagemaker-examples/blob/training-scripts/pytorch-rnn-scripts/generate.py](https://github.com/awslabs/amazon-sagemaker-examples/blob/training-scripts/pytorch-rnn-scripts/generate.py). \n",
    "We will use Git integration for hosting too since the hosting code is also in the Git repo. \n"
   ]
  },
  {
   "cell_type": "markdown",
   "metadata": {},
   "source": [
    "You can also put your training and hosting code in the same file but you would need to add a main guard (`if __name__=='__main__':`) for the training code, so that the container does not inadvertently run it at the wrong point in execution during hosting."
   ]
  },
  {
   "cell_type": "markdown",
   "metadata": {},
   "source": [
    "### Import model into SageMaker\n",
    "The PyTorch model uses a npy serializer and deserializer by default. For this example, since we have a custom implementation of all the hosting functions and plan on using JSON instead, we need a predictor that can serialize and deserialize JSON."
   ]
  },
  {
   "cell_type": "code",
   "execution_count": null,
   "metadata": {},
   "outputs": [],
   "source": [
    "from sagemaker.predictor import Predictor\n",
    "from sagemaker.serializers import JSONSerializer\n",
    "from sagemaker.deserializers import JSONDeserializer\n",
    "\n",
    "class JSONPredictor(Predictor):\n",
    "    def __init__(self, endpoint_name, sagemaker_session):\n",
    "        super(JSONPredictor, self).__init__(endpoint_name, sagemaker_session, JSONSerializer(), JSONDeserializer())"
   ]
  },
  {
   "cell_type": "markdown",
   "metadata": {},
   "source": [
    "Since hosting functions implemented outside of train script we can't just use estimator object to deploy the model. Instead we need to create a PyTorchModel object using the latest training job to get the S3 location of the trained model data. Besides model data location in S3, we also need to configure PyTorchModel with the script and source directory (because our `generate` script requires model and data classes from source directory), an IAM role."
   ]
  },
  {
   "cell_type": "code",
   "execution_count": null,
   "metadata": {},
   "outputs": [],
   "source": [
    "from sagemaker.pytorch import PyTorchModel\n",
    "\n",
    "training_job_name = estimator.latest_training_job.name\n",
    "desc = sagemaker_session.sagemaker_client.describe_training_job(TrainingJobName=training_job_name)\n",
    "trained_model_location = desc['ModelArtifacts']['S3ModelArtifacts']\n",
    "model = PyTorchModel(model_data=trained_model_location,\n",
    "                     role=role,\n",
    "                     framework_version='1.0.0',\n",
    "                     entry_point='generate.py',\n",
    "                     source_dir='pytorch-rnn-scripts',\n",
    "                     py_version='py3',\n",
    "                     git_config=git_config,\n",
    "                     predictor_cls=JSONPredictor)"
   ]
  },
  {
   "cell_type": "markdown",
   "metadata": {},
   "source": [
    "### Create endpoint\n",
    "\n",
    "Now the model is ready to be deployed at a SageMaker endpoint and we are going to use the `sagemaker.pytorch.model.PyTorchModel.deploy` method to do this. We can use a CPU-based instance for inference (in this case an ml.m4.xlarge), even though we trained on GPU instances, because at the end of training we moved model to cpu before returning it. This way we can load trained model on any device and then move to GPU if CUDA is available. \n"
   ]
  },
  {
   "cell_type": "code",
   "execution_count": null,
   "metadata": {},
   "outputs": [],
   "source": [
    "predictor = model.deploy(initial_instance_count=1, instance_type='ml.m4.xlarge')"
   ]
  },
  {
   "cell_type": "markdown",
   "metadata": {},
   "source": [
    "### Evaluate\n",
    "We are going to use our deployed model to generate text by providing random seed, temperature (higher will increase diversity) and number of words we would like to get."
   ]
  },
  {
   "cell_type": "code",
   "execution_count": null,
   "metadata": {},
   "outputs": [],
   "source": [
    "input = {\n",
    "    'seed': 111,\n",
    "    'temperature': 2.0,\n",
    "    'words': 100\n",
    "}\n",
    "response = predictor.predict(input)\n",
    "print(response)"
   ]
  },
  {
   "cell_type": "markdown",
   "metadata": {},
   "source": [
    "### Cleanup\n",
    "\n",
    "After you have finished with this example, remember to delete the prediction endpoint to release the instance(s) associated with it.\n"
   ]
  },
  {
   "cell_type": "code",
   "execution_count": null,
   "metadata": {},
   "outputs": [],
   "source": [
    "predictor.delete_endpoint()"
   ]
  },
  {
   "cell_type": "code",
   "execution_count": null,
   "metadata": {},
   "outputs": [],
   "source": []
  }
 ],
 "metadata": {
  "instance_type": "ml.t3.medium",
  "kernelspec": {
   "display_name": "Python 3 (PyTorch 1.6 Python 3.6 CPU Optimized)",
   "language": "python",
   "name": "python3__SAGEMAKER_INTERNAL__arn:aws:sagemaker:us-east-1:081325390199:image/pytorch-1.6-cpu-py36-ubuntu16.04-v1"
  },
  "language_info": {
   "codemirror_mode": {
    "name": "ipython",
    "version": 3
   },
   "file_extension": ".py",
   "mimetype": "text/x-python",
   "name": "python",
   "nbconvert_exporter": "python",
   "pygments_lexer": "ipython3",
   "version": "3.6.13"
  },
  "notice": "Copyright 2018 Amazon.com, Inc. or its affiliates. All Rights Reserved.  Licensed under the Apache License, Version 2.0 (the \"License\"). You may not use this file except in compliance with the License. A copy of the License is located at http://aws.amazon.com/apache2.0/ or in the \"license\" file accompanying this file. This file is distributed on an \"AS IS\" BASIS, WITHOUT WARRANTIES OR CONDITIONS OF ANY KIND, either express or implied. See the License for the specific language governing permissions and limitations under the License."
 },
 "nbformat": 4,
 "nbformat_minor": 4
}
