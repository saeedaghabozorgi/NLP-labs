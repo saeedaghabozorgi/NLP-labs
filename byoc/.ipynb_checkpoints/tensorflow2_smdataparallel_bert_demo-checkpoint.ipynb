{
 "cells": [
  {
   "cell_type": "markdown",
   "metadata": {},
   "source": [
    "# Distributed data parallel BERT training with TensorFlow2 and SMDataParallel\n",
    "\n",
    "HSMDataParallel is a new capability in Amazon SageMaker to train deep learning models faster and cheaper. SMDataParallel is a distributed data parallel training framework for TensorFlow, PyTorch, and MXNet.\n",
    "\n",
    "This notebook example shows how to use SMDataParallel with TensorFlow(version 2.4.1) on [Amazon SageMaker](https://aws.amazon.com/sagemaker/) to train a BERT model using [Amazon FSx for Lustre file-system](https://aws.amazon.com/fsx/lustre/) as data source.\n",
    "\n",
    "The outline of steps is as follows:\n",
    "\n",
    "1. Stage dataset in [Amazon S3](https://aws.amazon.com/s3/). Original dataset for BERT pretraining consists of text passages from BooksCorpus (800M words) (Zhu et al. 2015) and English Wikipedia (2,500M words). Please follow original guidelines by NVidia to prepare training data in hdf5 format - \n",
    "https://github.com/NVIDIA/DeepLearningExamples/blob/master/PyTorch/LanguageModeling/BERT/README.md#getting-the-data\n",
    "2. Create Amazon FSx Lustre file-system and import data into the file-system from S3\n",
    "3. Build Docker training image and push it to [Amazon ECR](https://aws.amazon.com/ecr/)\n",
    "4. Configure data input channels for SageMaker\n",
    "5. Configure hyper-prarameters\n",
    "6. Define training metrics\n",
    "7. Define training job, set distribution strategy to SMDataParallel and start training\n",
    "\n",
    "**NOTE:**  With large traning dataset, we recommend using [Amazon FSx](https://aws.amazon.com/fsx/) as the input filesystem for the SageMaker training job. FSx file input to SageMaker significantly cuts down training start up time on SageMaker because it avoids downloading the training data each time you start the training job (as done with S3 input for SageMaker training job) and provides good data read throughput.\n",
    "\n",
    "\n",
    "**NOTE:** This example requires SageMaker Python SDK v2.X."
   ]
  },
  {
   "cell_type": "markdown",
   "metadata": {},
   "source": [
    "## Amazon SageMaker Initialization\n",
    "\n",
    "Initialize the notebook instance. Get the aws region, sagemaker execution role.\n",
    "\n",
    "The IAM role arn used to give training and hosting access to your data. See the [Amazon SageMaker Roles](https://docs.aws.amazon.com/sagemaker/latest/dg/sagemaker-roles.html) for how to create these. Note, if more than one role is required for notebook instances, training, and/or hosting, please replace the sagemaker.get_execution_role() with the appropriate full IAM role arn string(s). As described above, since we will be using FSx, please make sure to attach `FSx Access` permission to this IAM role."
   ]
  },
  {
   "cell_type": "code",
   "execution_count": 1,
   "metadata": {},
   "outputs": [
    {
     "name": "stdout",
     "output_type": "stream",
     "text": [
      "Requirement already satisfied: sagemaker in /usr/local/lib/python3.7/site-packages (2.39.0)\n",
      "Collecting sagemaker\n",
      "  Using cached sagemaker-2.42.0-py2.py3-none-any.whl\n",
      "Requirement already satisfied: attrs in /usr/local/lib/python3.7/site-packages (from sagemaker) (20.3.0)\n",
      "Requirement already satisfied: numpy>=1.9.0 in /usr/local/lib/python3.7/site-packages (from sagemaker) (1.18.5)\n",
      "Requirement already satisfied: protobuf>=3.1 in /usr/local/lib/python3.7/site-packages (from sagemaker) (3.15.8)\n",
      "Requirement already satisfied: smdebug-rulesconfig==1.0.1 in /usr/local/lib/python3.7/site-packages (from sagemaker) (1.0.1)\n",
      "Requirement already satisfied: importlib-metadata>=1.4.0 in /usr/local/lib/python3.7/site-packages (from sagemaker) (4.0.1)\n",
      "Requirement already satisfied: pathos in /usr/local/lib/python3.7/site-packages (from sagemaker) (0.2.7)\n",
      "Requirement already satisfied: protobuf3-to-dict>=0.1.5 in /usr/local/lib/python3.7/site-packages (from sagemaker) (0.1.5)\n",
      "Requirement already satisfied: pandas in /usr/local/lib/python3.7/site-packages (from sagemaker) (1.1.0)\n",
      "Requirement already satisfied: packaging>=20.0 in /usr/local/lib/python3.7/site-packages (from sagemaker) (20.9)\n",
      "Requirement already satisfied: boto3>=1.16.32 in /usr/local/lib/python3.7/site-packages (from sagemaker) (1.17.62)\n",
      "Requirement already satisfied: google-pasta in /usr/local/lib/python3.7/site-packages (from sagemaker) (0.2.0)\n",
      "Requirement already satisfied: jmespath<1.0.0,>=0.7.1 in /usr/local/lib/python3.7/site-packages (from boto3>=1.16.32->sagemaker) (0.10.0)\n",
      "Requirement already satisfied: s3transfer<0.5.0,>=0.4.0 in /usr/local/lib/python3.7/site-packages (from boto3>=1.16.32->sagemaker) (0.4.2)\n",
      "Requirement already satisfied: botocore<1.21.0,>=1.20.62 in /usr/local/lib/python3.7/site-packages (from boto3>=1.16.32->sagemaker) (1.20.62)\n",
      "Requirement already satisfied: urllib3<1.27,>=1.25.4 in /usr/local/lib/python3.7/site-packages (from botocore<1.21.0,>=1.20.62->boto3>=1.16.32->sagemaker) (1.25.11)\n",
      "Requirement already satisfied: python-dateutil<3.0.0,>=2.1 in /usr/local/lib/python3.7/site-packages (from botocore<1.21.0,>=1.20.62->boto3>=1.16.32->sagemaker) (2.8.1)\n",
      "Requirement already satisfied: zipp>=0.5 in /usr/local/lib/python3.7/site-packages (from importlib-metadata>=1.4.0->sagemaker) (3.4.1)\n",
      "Requirement already satisfied: typing-extensions>=3.6.4 in /usr/local/lib/python3.7/site-packages (from importlib-metadata>=1.4.0->sagemaker) (3.7.4.3)\n",
      "Requirement already satisfied: pyparsing>=2.0.2 in /usr/local/lib/python3.7/site-packages (from packaging>=20.0->sagemaker) (2.4.7)\n",
      "Requirement already satisfied: six>=1.9 in /usr/local/lib/python3.7/site-packages (from protobuf>=3.1->sagemaker) (1.15.0)\n",
      "Requirement already satisfied: pytz>=2017.2 in /usr/local/lib/python3.7/site-packages (from pandas->sagemaker) (2021.1)\n",
      "Requirement already satisfied: multiprocess>=0.70.11 in /usr/local/lib/python3.7/site-packages (from pathos->sagemaker) (0.70.11.1)\n",
      "Requirement already satisfied: dill>=0.3.3 in /usr/local/lib/python3.7/site-packages (from pathos->sagemaker) (0.3.3)\n",
      "Requirement already satisfied: pox>=0.2.9 in /usr/local/lib/python3.7/site-packages (from pathos->sagemaker) (0.2.9)\n",
      "Requirement already satisfied: ppft>=1.6.6.3 in /usr/local/lib/python3.7/site-packages (from pathos->sagemaker) (1.6.6.3)\n",
      "Installing collected packages: sagemaker\n",
      "  Attempting uninstall: sagemaker\n",
      "    Found existing installation: sagemaker 2.39.0\n",
      "    Uninstalling sagemaker-2.39.0:\n",
      "      Successfully uninstalled sagemaker-2.39.0\n",
      "Successfully installed sagemaker-2.42.0\n",
      "\u001b[33mWARNING: Running pip as root will break packages and permissions. You should install packages reliably by using venv: https://pip.pypa.io/warnings/venv\u001b[0m\n",
      "\u001b[33mWARNING: You are using pip version 21.1.1; however, version 21.1.2 is available.\n",
      "You should consider upgrading via the '/usr/local/bin/python3 -m pip install --upgrade pip' command.\u001b[0m\n",
      "SageMaker Execution Role:arn:aws:iam::367158743199:role/service-role/AmazonSageMaker-ExecutionRole-20210413T121296\n",
      "AWS account:367158743199\n",
      "AWS region:us-east-1\n",
      "CPU times: user 894 ms, sys: 174 ms, total: 1.07 s\n",
      "Wall time: 4.29 s\n"
     ]
    }
   ],
   "source": [
    "%%time\n",
    "! python3 -m pip install --upgrade sagemaker\n",
    "import sagemaker\n",
    "from sagemaker import get_execution_role\n",
    "from sagemaker.estimator import Estimator\n",
    "import boto3\n",
    "\n",
    "sagemaker_session = sagemaker.Session()\n",
    "bucket = sagemaker_session.default_bucket()\n",
    "\n",
    "role = get_execution_role() # provide a pre-existing role ARN as an alternative to creating a new role\n",
    "print(f'SageMaker Execution Role:{role}')\n",
    "\n",
    "client = boto3.client('sts')\n",
    "account = client.get_caller_identity()['Account']\n",
    "print(f'AWS account:{account}')\n",
    "\n",
    "session = boto3.session.Session()\n",
    "region = session.region_name\n",
    "print(f'AWS region:{region}')"
   ]
  },
  {
   "cell_type": "markdown",
   "metadata": {},
   "source": [
    "## Prepare SageMaker Training Images\n",
    "\n",
    "1. SageMaker by default use the latest [Amazon Deep Learning Container Images (DLC)](https://github.com/aws/deep-learning-containers/blob/master/available_images.md) TensorFlow training image. In this step, we use it as a base image and install additional dependencies required for training BERT model.\n",
    "2. In the Github repository https://github.com/HerringForks/DeepLearningExamples.git we have made TensorFlow2-SMDataParallel BERT training script available for your use. This repository will be cloned in the training image for running the model training.\n",
    "\n",
    "### Build and Push Docker Image to ECR\n",
    "\n",
    "Run the below command build the docker image and push it to ECR."
   ]
  },
  {
   "cell_type": "code",
   "execution_count": 6,
   "metadata": {},
   "outputs": [
    {
     "name": "stdout",
     "output_type": "stream",
     "text": [
      "Collecting sagemaker-studio-image-build\n",
      "  Downloading sagemaker_studio_image_build-0.6.0.tar.gz (13 kB)\n",
      "Requirement already satisfied: boto3<2.0,>=1.10.44 in /usr/local/lib/python3.7/site-packages (from sagemaker-studio-image-build) (1.17.62)\n",
      "Requirement already satisfied: sagemaker<3.0 in /usr/local/lib/python3.7/site-packages (from sagemaker-studio-image-build) (2.42.0)\n",
      "Requirement already satisfied: botocore<1.21.0,>=1.20.62 in /usr/local/lib/python3.7/site-packages (from boto3<2.0,>=1.10.44->sagemaker-studio-image-build) (1.20.62)\n",
      "Requirement already satisfied: jmespath<1.0.0,>=0.7.1 in /usr/local/lib/python3.7/site-packages (from boto3<2.0,>=1.10.44->sagemaker-studio-image-build) (0.10.0)\n",
      "Requirement already satisfied: s3transfer<0.5.0,>=0.4.0 in /usr/local/lib/python3.7/site-packages (from boto3<2.0,>=1.10.44->sagemaker-studio-image-build) (0.4.2)\n",
      "Requirement already satisfied: urllib3<1.27,>=1.25.4 in /usr/local/lib/python3.7/site-packages (from botocore<1.21.0,>=1.20.62->boto3<2.0,>=1.10.44->sagemaker-studio-image-build) (1.25.11)\n",
      "Requirement already satisfied: python-dateutil<3.0.0,>=2.1 in /usr/local/lib/python3.7/site-packages (from botocore<1.21.0,>=1.20.62->boto3<2.0,>=1.10.44->sagemaker-studio-image-build) (2.8.1)\n",
      "Requirement already satisfied: six>=1.5 in /usr/local/lib/python3.7/site-packages (from python-dateutil<3.0.0,>=2.1->botocore<1.21.0,>=1.20.62->boto3<2.0,>=1.10.44->sagemaker-studio-image-build) (1.15.0)\n",
      "Requirement already satisfied: numpy>=1.9.0 in /usr/local/lib/python3.7/site-packages (from sagemaker<3.0->sagemaker-studio-image-build) (1.18.5)\n",
      "Requirement already satisfied: pathos in /usr/local/lib/python3.7/site-packages (from sagemaker<3.0->sagemaker-studio-image-build) (0.2.7)\n",
      "Requirement already satisfied: google-pasta in /usr/local/lib/python3.7/site-packages (from sagemaker<3.0->sagemaker-studio-image-build) (0.2.0)\n",
      "Requirement already satisfied: packaging>=20.0 in /usr/local/lib/python3.7/site-packages (from sagemaker<3.0->sagemaker-studio-image-build) (20.9)\n",
      "Requirement already satisfied: protobuf>=3.1 in /usr/local/lib/python3.7/site-packages (from sagemaker<3.0->sagemaker-studio-image-build) (3.15.8)\n",
      "Requirement already satisfied: smdebug-rulesconfig==1.0.1 in /usr/local/lib/python3.7/site-packages (from sagemaker<3.0->sagemaker-studio-image-build) (1.0.1)\n",
      "Requirement already satisfied: attrs in /usr/local/lib/python3.7/site-packages (from sagemaker<3.0->sagemaker-studio-image-build) (20.3.0)\n",
      "Requirement already satisfied: pandas in /usr/local/lib/python3.7/site-packages (from sagemaker<3.0->sagemaker-studio-image-build) (1.1.0)\n",
      "Requirement already satisfied: importlib-metadata>=1.4.0 in /usr/local/lib/python3.7/site-packages (from sagemaker<3.0->sagemaker-studio-image-build) (4.0.1)\n",
      "Requirement already satisfied: protobuf3-to-dict>=0.1.5 in /usr/local/lib/python3.7/site-packages (from sagemaker<3.0->sagemaker-studio-image-build) (0.1.5)\n",
      "Requirement already satisfied: zipp>=0.5 in /usr/local/lib/python3.7/site-packages (from importlib-metadata>=1.4.0->sagemaker<3.0->sagemaker-studio-image-build) (3.4.1)\n",
      "Requirement already satisfied: typing-extensions>=3.6.4 in /usr/local/lib/python3.7/site-packages (from importlib-metadata>=1.4.0->sagemaker<3.0->sagemaker-studio-image-build) (3.7.4.3)\n",
      "Requirement already satisfied: pyparsing>=2.0.2 in /usr/local/lib/python3.7/site-packages (from packaging>=20.0->sagemaker<3.0->sagemaker-studio-image-build) (2.4.7)\n",
      "Requirement already satisfied: pytz>=2017.2 in /usr/local/lib/python3.7/site-packages (from pandas->sagemaker<3.0->sagemaker-studio-image-build) (2021.1)\n",
      "Requirement already satisfied: ppft>=1.6.6.3 in /usr/local/lib/python3.7/site-packages (from pathos->sagemaker<3.0->sagemaker-studio-image-build) (1.6.6.3)\n",
      "Requirement already satisfied: dill>=0.3.3 in /usr/local/lib/python3.7/site-packages (from pathos->sagemaker<3.0->sagemaker-studio-image-build) (0.3.3)\n",
      "Requirement already satisfied: pox>=0.2.9 in /usr/local/lib/python3.7/site-packages (from pathos->sagemaker<3.0->sagemaker-studio-image-build) (0.2.9)\n",
      "Requirement already satisfied: multiprocess>=0.70.11 in /usr/local/lib/python3.7/site-packages (from pathos->sagemaker<3.0->sagemaker-studio-image-build) (0.70.11.1)\n",
      "Building wheels for collected packages: sagemaker-studio-image-build\n",
      "  Building wheel for sagemaker-studio-image-build (setup.py) ... \u001b[?25ldone\n",
      "\u001b[?25h  Created wheel for sagemaker-studio-image-build: filename=sagemaker_studio_image_build-0.6.0-py3-none-any.whl size=13452 sha256=4b252ff92c6b9a30480309f8ea555a5e8e55f040a8cea33f6c9d6a67b2847b67\n",
      "  Stored in directory: /root/.cache/pip/wheels/c1/9c/e8/cbf0266d9d9b1b6161f7ba9ddf572d02aacd411e8a5b4d186b\n",
      "Successfully built sagemaker-studio-image-build\n",
      "Installing collected packages: sagemaker-studio-image-build\n",
      "Successfully installed sagemaker-studio-image-build-0.6.0\n",
      "\u001b[33mWARNING: Running pip as root will break packages and permissions. You should install packages reliably by using venv: https://pip.pypa.io/warnings/venv\u001b[0m\n",
      "\u001b[33mWARNING: You are using pip version 21.1.1; however, version 21.1.2 is available.\n",
      "You should consider upgrading via the '/usr/local/bin/python3.7 -m pip install --upgrade pip' command.\u001b[0m\n"
     ]
    }
   ],
   "source": [
    "!pip install sagemaker-studio-image-build"
   ]
  },
  {
   "cell_type": "code",
   "execution_count": 2,
   "metadata": {},
   "outputs": [],
   "source": [
    "image = \"tf2-smdataparallel-bert\"  # Example: tf2-smdataparallel-bert-sagemaker\n",
    "tag = \"latest\"   # Example: latest "
   ]
  },
  {
   "cell_type": "code",
   "execution_count": 3,
   "metadata": {},
   "outputs": [
    {
     "name": "stdout",
     "output_type": "stream",
     "text": [
      "\u001b[34mARG\u001b[39;49;00m region\n",
      "\n",
      "\u001b[34mFROM\u001b[39;49;00m \u001b[33m763104351884.dkr.ecr.us-west-2.amazonaws.com/tensorflow-training:2.4.1-gpu-py37-cu110-ubuntu18.04\u001b[39;49;00m\n",
      "\n",
      "\u001b[34mRUN\u001b[39;49;00m \tpip --no-cache-dir --no-cache install \u001b[33m\\\u001b[39;49;00m\n",
      "        scikit-learn==\u001b[34m0\u001b[39;49;00m.23.1 \u001b[33m\\\u001b[39;49;00m\n",
      "        \u001b[31mwandb\u001b[39;49;00m==\u001b[34m0\u001b[39;49;00m.9.1 \u001b[33m\\\u001b[39;49;00m\n",
      "        tensorflow-addons \u001b[33m\\\u001b[39;49;00m\n",
      "        \u001b[31mcolorama\u001b[39;49;00m==\u001b[34m0\u001b[39;49;00m.4.3 \u001b[33m\\\u001b[39;49;00m\n",
      "        pandas \u001b[33m\\\u001b[39;49;00m\n",
      "        apache_beam \u001b[33m\\\u001b[39;49;00m\n",
      "        \u001b[31mpyarrow\u001b[39;49;00m==\u001b[34m0\u001b[39;49;00m.16 \u001b[33m\\\u001b[39;49;00m\n",
      "        git+https://github.com/HerringForks/transformers.git@master \u001b[33m\\\u001b[39;49;00m\n",
      "        git+https://github.com/huggingface/nlp.git@703b761\n",
      "        \n"
     ]
    }
   ],
   "source": [
    "!pygmentize ./Dockerfile"
   ]
  },
  {
   "cell_type": "code",
   "execution_count": 7,
   "metadata": {},
   "outputs": [
    {
     "name": "stdout",
     "output_type": "stream",
     "text": [
      "\u001b[37m#!/usr/bin/env bash\u001b[39;49;00m\n",
      "\u001b[37m# This script shows how to build the Docker image and push it to ECR to be ready for use\u001b[39;49;00m\n",
      "\u001b[37m# by SageMaker.\u001b[39;49;00m\n",
      "\u001b[37m# The argument to this script is the image name. This will be used as the image on the local\u001b[39;49;00m\n",
      "\u001b[37m# machine and combined with the account and region to form the repository name for ECR.\u001b[39;49;00m\n",
      "\u001b[37m# set region\u001b[39;49;00m\n",
      "\n",
      "\u001b[31mDIR\u001b[39;49;00m=\u001b[33m\"\u001b[39;49;00m\u001b[34m$(\u001b[39;49;00m \u001b[36mcd\u001b[39;49;00m \u001b[33m\"\u001b[39;49;00m\u001b[34m$(\u001b[39;49;00m dirname \u001b[33m\"\u001b[39;49;00m\u001b[33m${\u001b[39;49;00m\u001b[31mBASH_SOURCE\u001b[39;49;00m[0]\u001b[33m}\u001b[39;49;00m\u001b[33m\"\u001b[39;49;00m \u001b[34m)\u001b[39;49;00m\u001b[33m\"\u001b[39;49;00m && \u001b[36mpwd\u001b[39;49;00m \u001b[34m)\u001b[39;49;00m\u001b[33m\"\u001b[39;49;00m\n",
      "\n",
      "\u001b[34mif\u001b[39;49;00m [ \u001b[33m\"\u001b[39;49;00m\u001b[31m$#\u001b[39;49;00m\u001b[33m\"\u001b[39;49;00m -eq \u001b[34m3\u001b[39;49;00m ]; \u001b[34mthen\u001b[39;49;00m\n",
      "    \u001b[31mregion\u001b[39;49;00m=\u001b[31m$1\u001b[39;49;00m\n",
      "    \u001b[31mimage\u001b[39;49;00m=\u001b[31m$2\u001b[39;49;00m\n",
      "    \u001b[31mtag\u001b[39;49;00m=\u001b[31m$3\u001b[39;49;00m\n",
      "\u001b[34melse\u001b[39;49;00m\n",
      "    \u001b[36mecho\u001b[39;49;00m \u001b[33m\"\u001b[39;49;00m\u001b[33musage: \u001b[39;49;00m\u001b[31m$0\u001b[39;49;00m\u001b[33m <aws-region> \u001b[39;49;00m\u001b[31m$1\u001b[39;49;00m\u001b[33m <image-repo> \u001b[39;49;00m\u001b[31m$2\u001b[39;49;00m\u001b[33m <image-tag>\u001b[39;49;00m\u001b[33m\"\u001b[39;49;00m\n",
      "    \u001b[36mexit\u001b[39;49;00m \u001b[34m1\u001b[39;49;00m\n",
      "\u001b[34mfi\u001b[39;49;00m\n",
      "\n",
      "\u001b[37m# Get the account number associated with the current IAM credentials\u001b[39;49;00m\n",
      "\u001b[31maccount\u001b[39;49;00m=\u001b[34m$(\u001b[39;49;00maws sts get-caller-identity --query Account --output text\u001b[34m)\u001b[39;49;00m\n",
      "\n",
      "\u001b[34mif\u001b[39;49;00m [ \u001b[31m$?\u001b[39;49;00m -ne \u001b[34m0\u001b[39;49;00m ]\n",
      "\u001b[34mthen\u001b[39;49;00m\n",
      "    \u001b[36mexit\u001b[39;49;00m \u001b[34m255\u001b[39;49;00m\n",
      "\u001b[34mfi\u001b[39;49;00m\n",
      "\n",
      "\n",
      "\u001b[31mfullname\u001b[39;49;00m=\u001b[33m\"\u001b[39;49;00m\u001b[33m${\u001b[39;49;00m\u001b[31maccount\u001b[39;49;00m\u001b[33m}\u001b[39;49;00m\u001b[33m.dkr.ecr.\u001b[39;49;00m\u001b[33m${\u001b[39;49;00m\u001b[31mregion\u001b[39;49;00m\u001b[33m}\u001b[39;49;00m\u001b[33m.amazonaws.com/\u001b[39;49;00m\u001b[33m${\u001b[39;49;00m\u001b[31mimage\u001b[39;49;00m\u001b[33m}\u001b[39;49;00m\u001b[33m:\u001b[39;49;00m\u001b[33m${\u001b[39;49;00m\u001b[31mtag\u001b[39;49;00m\u001b[33m}\u001b[39;49;00m\u001b[33m\"\u001b[39;49;00m\n",
      "\n",
      "\u001b[37m# If the repository doesn't exist in ECR, create it.\u001b[39;49;00m\n",
      "aws ecr describe-repositories --region \u001b[33m${\u001b[39;49;00m\u001b[31mregion\u001b[39;49;00m\u001b[33m}\u001b[39;49;00m --repository-names \u001b[33m\"\u001b[39;49;00m\u001b[33m${\u001b[39;49;00m\u001b[31mimage\u001b[39;49;00m\u001b[33m}\u001b[39;49;00m\u001b[33m\"\u001b[39;49;00m > /dev/null \u001b[34m2\u001b[39;49;00m>&\u001b[34m1\u001b[39;49;00m\n",
      "\u001b[34mif\u001b[39;49;00m [ \u001b[31m$?\u001b[39;49;00m -ne \u001b[34m0\u001b[39;49;00m ]; \u001b[34mthen\u001b[39;49;00m\n",
      "    \u001b[36mecho\u001b[39;49;00m \u001b[33m\"\u001b[39;49;00m\u001b[33mcreating ECR repository : \u001b[39;49;00m\u001b[33m${\u001b[39;49;00m\u001b[31mfullname\u001b[39;49;00m\u001b[33m}\u001b[39;49;00m\u001b[33m \u001b[39;49;00m\u001b[33m\"\u001b[39;49;00m\n",
      "    aws ecr create-repository --region \u001b[33m${\u001b[39;49;00m\u001b[31mregion\u001b[39;49;00m\u001b[33m}\u001b[39;49;00m --repository-name \u001b[33m\"\u001b[39;49;00m\u001b[33m${\u001b[39;49;00m\u001b[31mimage\u001b[39;49;00m\u001b[33m}\u001b[39;49;00m\u001b[33m\"\u001b[39;49;00m > /dev/null\n",
      "\u001b[34mfi\u001b[39;49;00m\n",
      "\n",
      "\u001b[34m$(\u001b[39;49;00maws ecr get-login --no-include-email --region us-west-2  --registry-ids \u001b[34m763104351884\u001b[39;49;00m\u001b[34m)\u001b[39;49;00m\n",
      "sm-docker build \u001b[33m${\u001b[39;49;00m\u001b[31mDIR\u001b[39;49;00m\u001b[33m}\u001b[39;49;00m/ -t \u001b[33m${\u001b[39;49;00m\u001b[31mimage\u001b[39;49;00m\u001b[33m}\u001b[39;49;00m -f \u001b[33m${\u001b[39;49;00m\u001b[31mDIR\u001b[39;49;00m\u001b[33m}\u001b[39;49;00m/Dockerfile  --build-arg \u001b[31mregion\u001b[39;49;00m=\u001b[33m${\u001b[39;49;00m\u001b[31mregion\u001b[39;49;00m\u001b[33m}\u001b[39;49;00m\n",
      "docker tag \u001b[33m${\u001b[39;49;00m\u001b[31mimage\u001b[39;49;00m\u001b[33m}\u001b[39;49;00m \u001b[33m${\u001b[39;49;00m\u001b[31mfullname\u001b[39;49;00m\u001b[33m}\u001b[39;49;00m\n",
      "\n",
      "\u001b[37m# Get the login command from ECR and execute it directly\u001b[39;49;00m\n",
      "\u001b[34m$(\u001b[39;49;00maws ecr get-login --region \u001b[33m${\u001b[39;49;00m\u001b[31mregion\u001b[39;49;00m\u001b[33m}\u001b[39;49;00m --no-include-email\u001b[34m)\u001b[39;49;00m\n",
      "docker push \u001b[33m${\u001b[39;49;00m\u001b[31mfullname\u001b[39;49;00m\u001b[33m}\u001b[39;49;00m\n",
      "\u001b[34mif\u001b[39;49;00m [ \u001b[31m$?\u001b[39;49;00m -eq \u001b[34m0\u001b[39;49;00m ]; \u001b[34mthen\u001b[39;49;00m\n",
      "\t\u001b[36mecho\u001b[39;49;00m \u001b[33m\"\u001b[39;49;00m\u001b[33mAmazon ECR URI: \u001b[39;49;00m\u001b[33m${\u001b[39;49;00m\u001b[31mfullname\u001b[39;49;00m\u001b[33m}\u001b[39;49;00m\u001b[33m\"\u001b[39;49;00m\n",
      "\u001b[34melse\u001b[39;49;00m\n",
      "\t\u001b[36mecho\u001b[39;49;00m \u001b[33m\"Error: Image build and push failed\"\u001b[39;49;00m\n",
      "\t\u001b[36mexit\u001b[39;49;00m \u001b[34m1\u001b[39;49;00m\n",
      "\u001b[34mfi\u001b[39;49;00m\n"
     ]
    }
   ],
   "source": [
    "!pygmentize ./build_and_push.sh"
   ]
  },
  {
   "cell_type": "code",
   "execution_count": 8,
   "metadata": {},
   "outputs": [
    {
     "name": "stdout",
     "output_type": "stream",
     "text": [
      "build_and_push.sh: line 37: docker: command not found\n",
      "Traceback (most recent call last):\n",
      "  File \"/usr/local/bin/sm-docker\", line 8, in <module>\n",
      "    sys.exit(main())\n",
      "  File \"/usr/local/lib/python3.7/site-packages/sagemaker_studio_image_build/cli.py\", line 133, in main\n",
      "    args.func(args, unknown)\n",
      "  File \"/usr/local/lib/python3.7/site-packages/sagemaker_studio_image_build/cli.py\", line 75, in build_image\n",
      "    construct_vpc_config(args), extra_args, log=not args.no_logs\n",
      "  File \"/usr/local/lib/python3.7/site-packages/sagemaker_studio_image_build/builder.py\", line 73, in build_image\n",
      "    compute_type=compute_type, vpc_config=vpc_config) as p:\n",
      "  File \"/usr/local/lib/python3.7/site-packages/sagemaker_studio_image_build/codebuild.py\", line 82, in __enter__\n",
      "    client.create_project(**args)\n",
      "  File \"/usr/local/lib/python3.7/site-packages/botocore/client.py\", line 357, in _api_call\n",
      "    return self._make_api_call(operation_name, kwargs)\n",
      "  File \"/usr/local/lib/python3.7/site-packages/botocore/client.py\", line 676, in _make_api_call\n",
      "    raise error_class(parsed_response, operation_name)\n",
      "botocore.exceptions.ClientError: An error occurred (AccessDeniedException) when calling the CreateProject operation: User: arn:aws:sts::367158743199:assumed-role/AmazonSageMaker-ExecutionRole-20210413T121296/SageMaker is not authorized to perform: codebuild:CreateProject on resource: arn:aws:codebuild:us-east-1:367158743199:project/sagemaker-studio-d-36ermnem94k9-dev-1618330707731-MIwLgxDmNNfOjsmh\n",
      "build_and_push.sh: line 39: docker: command not found\n",
      "build_and_push.sh: line 42: docker: command not found\n",
      "build_and_push.sh: line 43: docker: command not found\n",
      "Error: Image build and push failed\n",
      "CPU times: user 60 ms, sys: 24.1 ms, total: 84.1 ms\n",
      "Wall time: 4.19 s\n"
     ]
    }
   ],
   "source": [
    "%%time\n",
    "! chmod +x build_and_push.sh; bash build_and_push.sh {region} {image} {tag}"
   ]
  },
  {
   "cell_type": "code",
   "execution_count": 59,
   "metadata": {},
   "outputs": [
    {
     "name": "stderr",
     "output_type": "stream",
     "text": [
      "Traceback (most recent call last):\n",
      "  File \"/usr/local/bin/sm-docker\", line 8, in <module>\n",
      "    sys.exit(main())\n",
      "  File \"/usr/local/lib/python3.7/site-packages/sagemaker_studio_image_build/cli.py\", line 133, in main\n",
      "    args.func(args, unknown)\n",
      "  File \"/usr/local/lib/python3.7/site-packages/sagemaker_studio_image_build/cli.py\", line 75, in build_image\n",
      "    construct_vpc_config(args), extra_args, log=not args.no_logs\n",
      "  File \"/usr/local/lib/python3.7/site-packages/sagemaker_studio_image_build/builder.py\", line 73, in build_image\n",
      "    compute_type=compute_type, vpc_config=vpc_config) as p:\n",
      "  File \"/usr/local/lib/python3.7/site-packages/sagemaker_studio_image_build/codebuild.py\", line 82, in __enter__\n",
      "    client.create_project(**args)\n",
      "  File \"/usr/local/lib/python3.7/site-packages/botocore/client.py\", line 357, in _api_call\n",
      "    return self._make_api_call(operation_name, kwargs)\n",
      "  File \"/usr/local/lib/python3.7/site-packages/botocore/client.py\", line 676, in _make_api_call\n",
      "    raise error_class(parsed_response, operation_name)\n",
      "botocore.exceptions.ClientError: An error occurred (AccessDeniedException) when calling the CreateProject operation: User: arn:aws:sts::367158743199:assumed-role/AmazonSageMaker-ExecutionRole-20210413T121296/SageMaker is not authorized to perform: codebuild:CreateProject on resource: arn:aws:codebuild:us-east-1:367158743199:project/sagemaker-studio-d-36ermnem94k9-dev-1618330707731-cZnENUtCXvTnJwjI\n"
     ]
    },
    {
     "ename": "CalledProcessError",
     "evalue": "Command 'b'# aws configure get region\\nREGION=\"us-east-1\"\\nIMAGE=\"tf2-smdataparallel-bert-sagemaker\"  # Example: tf2-smdataparallel-bert-sagemaker\\nTAG=\"latest\"   # Example: latest \\n\\nDIR=\"$( cd \"$( dirname \"${BASH_SOURCE[0]}\" )\" && pwd )\"\\n\\n# if [ \"$#\" -eq 3 ]; then\\n#     region=$REGION\\n#     image=$IMAGE\\n#     tag=$TAG\\n# else\\n#     echo \"usage: $0 <aws-region> $1 <image-repo> $2 <image-tag>\"\\n#     exit 1\\n# fi\\n\\n# Get the account number associated with the current IAM credentials\\naccount=$(aws sts get-caller-identity --query Account --output text)\\n\\nif [ $? -ne 0 ]\\nthen\\n    exit 255\\nfi\\n\\nfullname=\"${account}.dkr.ecr.${REGION}.amazonaws.com/${IMAGE}:${TAG}\"\\n\\n# If the repository doesn\\'t exist in ECR, create it.\\naws ecr describe-repositories --region ${REGION} --repository-names \"${IMAGE}\" > /dev/null 2>&1\\nif [ $? -ne 0 ]; then\\n    echo \"creating ECR repository : ${fullname} \"\\n    aws ecr create-repository --region ${REGION} --repository-name \"${IMAGE}\" > /dev/null\\nfi\\n\\nsm-docker build .\\n# $(aws ecr get-login --no-include-email --region ${REGION})\\n# sm-docker build ${DIR}/ -t ${image} -f ${DIR}/Dockerfile  --build-arg region=${region}\\n# docker tag ${image} ${fullname}\\n'' returned non-zero exit status 1.",
     "output_type": "error",
     "traceback": [
      "\u001b[0;31m---------------------------------------------------------------------------\u001b[0m",
      "\u001b[0;31mCalledProcessError\u001b[0m                        Traceback (most recent call last)",
      "\u001b[0;32m<ipython-input-59-ef37a0f02dcb>\u001b[0m in \u001b[0;36m<module>\u001b[0;34m\u001b[0m\n\u001b[0;32m----> 1\u001b[0;31m \u001b[0mget_ipython\u001b[0m\u001b[0;34m(\u001b[0m\u001b[0;34m)\u001b[0m\u001b[0;34m.\u001b[0m\u001b[0mrun_cell_magic\u001b[0m\u001b[0;34m(\u001b[0m\u001b[0;34m'bash'\u001b[0m\u001b[0;34m,\u001b[0m \u001b[0;34m''\u001b[0m\u001b[0;34m,\u001b[0m \u001b[0;34m'# aws configure get region\\nREGION=\"us-east-1\"\\nIMAGE=\"tf2-smdataparallel-bert-sagemaker\"  # Example: tf2-smdataparallel-bert-sagemaker\\nTAG=\"latest\"   # Example: latest \\n\\nDIR=\"$( cd \"$( dirname \"${BASH_SOURCE[0]}\" )\" && pwd )\"\\n\\n# if [ \"$#\" -eq 3 ]; then\\n#     region=$REGION\\n#     image=$IMAGE\\n#     tag=$TAG\\n# else\\n#     echo \"usage: $0 <aws-region> $1 <image-repo> $2 <image-tag>\"\\n#     exit 1\\n# fi\\n\\n# Get the account number associated with the current IAM credentials\\naccount=$(aws sts get-caller-identity --query Account --output text)\\n\\nif [ $? -ne 0 ]\\nthen\\n    exit 255\\nfi\\n\\nfullname=\"${account}.dkr.ecr.${REGION}.amazonaws.com/${IMAGE}:${TAG}\"\\n\\n# If the repository doesn\\'t exist in ECR, create it.\\naws ecr describe-repositories --region ${REGION} --repository-names \"${IMAGE}\" > /dev/null 2>&1\\nif [ $? -ne 0 ]; then\\n    echo \"creating ECR repository : ${fullname} \"\\n    aws ecr create-repository --region ${REGION} --repository-name \"${IMAGE}\" > /dev/null\\nfi\\n\\nsm-docker build .\\n# $(aws ecr get-login --no-include-email --region ${REGION})\\n# sm-docker build ${DIR}/ -t ${image} -f ${DIR}/Dockerfile  --build-arg region=${region}\\n# docker tag ${image} ${fullname}\\n'\u001b[0m\u001b[0;34m)\u001b[0m\u001b[0;34m\u001b[0m\u001b[0;34m\u001b[0m\u001b[0m\n\u001b[0m",
      "\u001b[0;32m/usr/local/lib/python3.7/site-packages/IPython/core/interactiveshell.py\u001b[0m in \u001b[0;36mrun_cell_magic\u001b[0;34m(self, magic_name, line, cell)\u001b[0m\n\u001b[1;32m   2369\u001b[0m             \u001b[0;32mwith\u001b[0m \u001b[0mself\u001b[0m\u001b[0;34m.\u001b[0m\u001b[0mbuiltin_trap\u001b[0m\u001b[0;34m:\u001b[0m\u001b[0;34m\u001b[0m\u001b[0;34m\u001b[0m\u001b[0m\n\u001b[1;32m   2370\u001b[0m                 \u001b[0margs\u001b[0m \u001b[0;34m=\u001b[0m \u001b[0;34m(\u001b[0m\u001b[0mmagic_arg_s\u001b[0m\u001b[0;34m,\u001b[0m \u001b[0mcell\u001b[0m\u001b[0;34m)\u001b[0m\u001b[0;34m\u001b[0m\u001b[0;34m\u001b[0m\u001b[0m\n\u001b[0;32m-> 2371\u001b[0;31m                 \u001b[0mresult\u001b[0m \u001b[0;34m=\u001b[0m \u001b[0mfn\u001b[0m\u001b[0;34m(\u001b[0m\u001b[0;34m*\u001b[0m\u001b[0margs\u001b[0m\u001b[0;34m,\u001b[0m \u001b[0;34m**\u001b[0m\u001b[0mkwargs\u001b[0m\u001b[0;34m)\u001b[0m\u001b[0;34m\u001b[0m\u001b[0;34m\u001b[0m\u001b[0m\n\u001b[0m\u001b[1;32m   2372\u001b[0m             \u001b[0;32mreturn\u001b[0m \u001b[0mresult\u001b[0m\u001b[0;34m\u001b[0m\u001b[0;34m\u001b[0m\u001b[0m\n\u001b[1;32m   2373\u001b[0m \u001b[0;34m\u001b[0m\u001b[0m\n",
      "\u001b[0;32m/usr/local/lib/python3.7/site-packages/IPython/core/magics/script.py\u001b[0m in \u001b[0;36mnamed_script_magic\u001b[0;34m(line, cell)\u001b[0m\n\u001b[1;32m    140\u001b[0m             \u001b[0;32melse\u001b[0m\u001b[0;34m:\u001b[0m\u001b[0;34m\u001b[0m\u001b[0;34m\u001b[0m\u001b[0m\n\u001b[1;32m    141\u001b[0m                 \u001b[0mline\u001b[0m \u001b[0;34m=\u001b[0m \u001b[0mscript\u001b[0m\u001b[0;34m\u001b[0m\u001b[0;34m\u001b[0m\u001b[0m\n\u001b[0;32m--> 142\u001b[0;31m             \u001b[0;32mreturn\u001b[0m \u001b[0mself\u001b[0m\u001b[0;34m.\u001b[0m\u001b[0mshebang\u001b[0m\u001b[0;34m(\u001b[0m\u001b[0mline\u001b[0m\u001b[0;34m,\u001b[0m \u001b[0mcell\u001b[0m\u001b[0;34m)\u001b[0m\u001b[0;34m\u001b[0m\u001b[0;34m\u001b[0m\u001b[0m\n\u001b[0m\u001b[1;32m    143\u001b[0m \u001b[0;34m\u001b[0m\u001b[0m\n\u001b[1;32m    144\u001b[0m         \u001b[0;31m# write a basic docstring:\u001b[0m\u001b[0;34m\u001b[0m\u001b[0;34m\u001b[0m\u001b[0;34m\u001b[0m\u001b[0m\n",
      "\u001b[0;32m<decorator-gen-110>\u001b[0m in \u001b[0;36mshebang\u001b[0;34m(self, line, cell)\u001b[0m\n",
      "\u001b[0;32m/usr/local/lib/python3.7/site-packages/IPython/core/magic.py\u001b[0m in \u001b[0;36m<lambda>\u001b[0;34m(f, *a, **k)\u001b[0m\n\u001b[1;32m    185\u001b[0m     \u001b[0;31m# but it's overkill for just that one bit of state.\u001b[0m\u001b[0;34m\u001b[0m\u001b[0;34m\u001b[0m\u001b[0;34m\u001b[0m\u001b[0m\n\u001b[1;32m    186\u001b[0m     \u001b[0;32mdef\u001b[0m \u001b[0mmagic_deco\u001b[0m\u001b[0;34m(\u001b[0m\u001b[0marg\u001b[0m\u001b[0;34m)\u001b[0m\u001b[0;34m:\u001b[0m\u001b[0;34m\u001b[0m\u001b[0;34m\u001b[0m\u001b[0m\n\u001b[0;32m--> 187\u001b[0;31m         \u001b[0mcall\u001b[0m \u001b[0;34m=\u001b[0m \u001b[0;32mlambda\u001b[0m \u001b[0mf\u001b[0m\u001b[0;34m,\u001b[0m \u001b[0;34m*\u001b[0m\u001b[0ma\u001b[0m\u001b[0;34m,\u001b[0m \u001b[0;34m**\u001b[0m\u001b[0mk\u001b[0m\u001b[0;34m:\u001b[0m \u001b[0mf\u001b[0m\u001b[0;34m(\u001b[0m\u001b[0;34m*\u001b[0m\u001b[0ma\u001b[0m\u001b[0;34m,\u001b[0m \u001b[0;34m**\u001b[0m\u001b[0mk\u001b[0m\u001b[0;34m)\u001b[0m\u001b[0;34m\u001b[0m\u001b[0;34m\u001b[0m\u001b[0m\n\u001b[0m\u001b[1;32m    188\u001b[0m \u001b[0;34m\u001b[0m\u001b[0m\n\u001b[1;32m    189\u001b[0m         \u001b[0;32mif\u001b[0m \u001b[0mcallable\u001b[0m\u001b[0;34m(\u001b[0m\u001b[0marg\u001b[0m\u001b[0;34m)\u001b[0m\u001b[0;34m:\u001b[0m\u001b[0;34m\u001b[0m\u001b[0;34m\u001b[0m\u001b[0m\n",
      "\u001b[0;32m/usr/local/lib/python3.7/site-packages/IPython/core/magics/script.py\u001b[0m in \u001b[0;36mshebang\u001b[0;34m(self, line, cell)\u001b[0m\n\u001b[1;32m    243\u001b[0m             \u001b[0msys\u001b[0m\u001b[0;34m.\u001b[0m\u001b[0mstderr\u001b[0m\u001b[0;34m.\u001b[0m\u001b[0mflush\u001b[0m\u001b[0;34m(\u001b[0m\u001b[0;34m)\u001b[0m\u001b[0;34m\u001b[0m\u001b[0;34m\u001b[0m\u001b[0m\n\u001b[1;32m    244\u001b[0m         \u001b[0;32mif\u001b[0m \u001b[0margs\u001b[0m\u001b[0;34m.\u001b[0m\u001b[0mraise_error\u001b[0m \u001b[0;32mand\u001b[0m \u001b[0mp\u001b[0m\u001b[0;34m.\u001b[0m\u001b[0mreturncode\u001b[0m\u001b[0;34m!=\u001b[0m\u001b[0;36m0\u001b[0m\u001b[0;34m:\u001b[0m\u001b[0;34m\u001b[0m\u001b[0;34m\u001b[0m\u001b[0m\n\u001b[0;32m--> 245\u001b[0;31m             \u001b[0;32mraise\u001b[0m \u001b[0mCalledProcessError\u001b[0m\u001b[0;34m(\u001b[0m\u001b[0mp\u001b[0m\u001b[0;34m.\u001b[0m\u001b[0mreturncode\u001b[0m\u001b[0;34m,\u001b[0m \u001b[0mcell\u001b[0m\u001b[0;34m,\u001b[0m \u001b[0moutput\u001b[0m\u001b[0;34m=\u001b[0m\u001b[0mout\u001b[0m\u001b[0;34m,\u001b[0m \u001b[0mstderr\u001b[0m\u001b[0;34m=\u001b[0m\u001b[0merr\u001b[0m\u001b[0;34m)\u001b[0m\u001b[0;34m\u001b[0m\u001b[0;34m\u001b[0m\u001b[0m\n\u001b[0m\u001b[1;32m    246\u001b[0m \u001b[0;34m\u001b[0m\u001b[0m\n\u001b[1;32m    247\u001b[0m     \u001b[0;32mdef\u001b[0m \u001b[0m_run_script\u001b[0m\u001b[0;34m(\u001b[0m\u001b[0mself\u001b[0m\u001b[0;34m,\u001b[0m \u001b[0mp\u001b[0m\u001b[0;34m,\u001b[0m \u001b[0mcell\u001b[0m\u001b[0;34m,\u001b[0m \u001b[0mto_close\u001b[0m\u001b[0;34m)\u001b[0m\u001b[0;34m:\u001b[0m\u001b[0;34m\u001b[0m\u001b[0;34m\u001b[0m\u001b[0m\n",
      "\u001b[0;31mCalledProcessError\u001b[0m: Command 'b'# aws configure get region\\nREGION=\"us-east-1\"\\nIMAGE=\"tf2-smdataparallel-bert-sagemaker\"  # Example: tf2-smdataparallel-bert-sagemaker\\nTAG=\"latest\"   # Example: latest \\n\\nDIR=\"$( cd \"$( dirname \"${BASH_SOURCE[0]}\" )\" && pwd )\"\\n\\n# if [ \"$#\" -eq 3 ]; then\\n#     region=$REGION\\n#     image=$IMAGE\\n#     tag=$TAG\\n# else\\n#     echo \"usage: $0 <aws-region> $1 <image-repo> $2 <image-tag>\"\\n#     exit 1\\n# fi\\n\\n# Get the account number associated with the current IAM credentials\\naccount=$(aws sts get-caller-identity --query Account --output text)\\n\\nif [ $? -ne 0 ]\\nthen\\n    exit 255\\nfi\\n\\nfullname=\"${account}.dkr.ecr.${REGION}.amazonaws.com/${IMAGE}:${TAG}\"\\n\\n# If the repository doesn\\'t exist in ECR, create it.\\naws ecr describe-repositories --region ${REGION} --repository-names \"${IMAGE}\" > /dev/null 2>&1\\nif [ $? -ne 0 ]; then\\n    echo \"creating ECR repository : ${fullname} \"\\n    aws ecr create-repository --region ${REGION} --repository-name \"${IMAGE}\" > /dev/null\\nfi\\n\\nsm-docker build .\\n# $(aws ecr get-login --no-include-email --region ${REGION})\\n# sm-docker build ${DIR}/ -t ${image} -f ${DIR}/Dockerfile  --build-arg region=${region}\\n# docker tag ${image} ${fullname}\\n'' returned non-zero exit status 1."
     ]
    }
   ],
   "source": [
    "%%bash\n",
    "# aws configure get region\n",
    "REGION=\"us-east-1\"\n",
    "IMAGE=\"tf2-smdataparallel-bert-sagemaker\"  # Example: tf2-smdataparallel-bert-sagemaker\n",
    "TAG=\"latest\"   # Example: latest \n",
    "\n",
    "DIR=\"$( cd \"$( dirname \"${BASH_SOURCE[0]}\" )\" && pwd )\"\n",
    "\n",
    "# if [ \"$#\" -eq 3 ]; then\n",
    "#     region=$REGION\n",
    "#     image=$IMAGE\n",
    "#     tag=$TAG\n",
    "# else\n",
    "#     echo \"usage: $0 <aws-region> $1 <image-repo> $2 <image-tag>\"\n",
    "#     exit 1\n",
    "# fi\n",
    "\n",
    "# Get the account number associated with the current IAM credentials\n",
    "account=$(aws sts get-caller-identity --query Account --output text)\n",
    "\n",
    "if [ $? -ne 0 ]\n",
    "then\n",
    "    exit 255\n",
    "fi\n",
    "\n",
    "fullname=\"${account}.dkr.ecr.${REGION}.amazonaws.com/${IMAGE}:${TAG}\"\n",
    "\n",
    "# If the repository doesn't exist in ECR, create it.\n",
    "aws ecr describe-repositories --region ${REGION} --repository-names \"${IMAGE}\" > /dev/null 2>&1\n",
    "if [ $? -ne 0 ]; then\n",
    "    echo \"creating ECR repository : ${fullname} \"\n",
    "    aws ecr create-repository --region ${REGION} --repository-name \"${IMAGE}\" > /dev/null\n",
    "fi\n",
    "\n",
    "sm-docker build .\n",
    "# $(aws ecr get-login --no-include-email --region ${REGION})\n",
    "# sm-docker build ${DIR}/ -t ${image} -f ${DIR}/Dockerfile  --build-arg region=${region}\n",
    "# docker tag ${image} ${fullname}\n"
   ]
  },
  {
   "cell_type": "markdown",
   "metadata": {},
   "source": [
    "## Preparing FSx Input for SageMaker\n",
    "\n",
    "1. Download and prepare your training dataset on S3.\n",
    "2. Follow the steps listed here to create a FSx linked with your S3 bucket with training data - https://docs.aws.amazon.com/fsx/latest/LustreGuide/create-fs-linked-data-repo.html. Make sure to add an endpoint to your VPC allowing S3 access.\n",
    "3. Follow the steps listed here to configure your SageMaker training job to use FSx https://aws.amazon.com/blogs/machine-learning/speed-up-training-on-amazon-sagemaker-using-amazon-efs-or-amazon-fsx-for-lustre-file-systems/\n",
    "\n",
    "### Important Caveats\n",
    "\n",
    "1. You need use the same `subnet` and `vpc` and `security group` used with FSx when launching the SageMaker notebook instance. The same configurations will be used by your SageMaker training job.\n",
    "2. Make sure you set appropriate inbound/output rules in the `security group`. Specically, opening up these ports is necessary for SageMaker to access the FSx filesystem in the training job. https://docs.aws.amazon.com/fsx/latest/LustreGuide/limit-access-security-groups.html\n",
    "3. Make sure `SageMaker IAM Role` used to launch this SageMaker training job has access to `AmazonFSx`."
   ]
  },
  {
   "cell_type": "markdown",
   "metadata": {},
   "source": [
    "## SageMaker TensorFlow Estimator function options\n",
    "\n",
    "In the following code block, you can update the estimator function to use a different instance type, instance count, and distrubtion strategy. You're also passing in the training script you reviewed in the previous cell.\n",
    "\n",
    "**Instance types**\n",
    "\n",
    "SMDataParallel supports model training on SageMaker with the following instance types only:\n",
    "1. ml.p3.16xlarge\n",
    "1. ml.p3dn.24xlarge [Recommended]\n",
    "1. ml.p4d.24xlarge [Recommended]\n",
    "\n",
    "**Instance count**\n",
    "\n",
    "To get the best performance and the most out of SMDataParallel, you should use at least 2 instances, but you can also use 1 for testing this example.\n",
    "\n",
    "**Distribution strategy**\n",
    "\n",
    "Note that to use DDP mode, you update the the `distribution` strategy, and set it to use `smdistributed dataparallel`.\n",
    "\n",
    "### Training script\n",
    "\n",
    "In the Github repository https://github.com/HerringForks/deep-learning-models.git we have made reference TensorFlow-SMDataParallel BERT training script available for your use. Clone the repository."
   ]
  },
  {
   "cell_type": "code",
   "execution_count": null,
   "metadata": {},
   "outputs": [],
   "source": [
    "# Clone herring forks repository for reference implementation BERT with TensorFlow2-SMDataParallel\n",
    "!rm -rf deep-learning-models\n",
    "!git clone --recursive https://github.com/HerringForks/deep-learning-models.git"
   ]
  },
  {
   "cell_type": "code",
   "execution_count": null,
   "metadata": {},
   "outputs": [],
   "source": [
    "from sagemaker.tensorflow import TensorFlow"
   ]
  },
  {
   "cell_type": "code",
   "execution_count": null,
   "metadata": {},
   "outputs": [],
   "source": [
    "instance_type = \"ml.p3dn.24xlarge\" # Other supported instance type: ml.p3.16xlarge, ml.p4d.24xlarge\n",
    "instance_count = 2 # You can use 2, 4, 8 etc.\n",
    "docker_image = f\"{account}.dkr.ecr.{region}.amazonaws.com/{image}:{tag}\" # YOUR_ECR_IMAGE_BUILT_WITH_ABOVE_DOCKER_FILE\n",
    "username = 'AWS'\n",
    "subnets = ['<SUBNET_ID>'] # Should be same as Subnet used for FSx. Example: subnet-0f9XXXX\n",
    "security_group_ids = ['<SECURITY_GROUP_ID>'] # Should be same as Security group used for FSx. sg-03ZZZZZZ\n",
    "job_name = 'smdataparallel-bert-tf2-fsx-2p3dn' # This job name is used as prefix to the sagemaker training job. Makes it easy for your look for your training job in SageMaker Training job console.\n",
    "file_system_id = '<FSX_ID>' # FSx file system ID with your training dataset. Example: 'fs-0bYYYYYY'\n",
    "\n"
   ]
  },
  {
   "cell_type": "code",
   "execution_count": null,
   "metadata": {},
   "outputs": [],
   "source": [
    "SM_DATA_ROOT = '/opt/ml/input/data/train'\n",
    "\n",
    "hyperparameters={\n",
    "    \"train_dir\": '/'.join([SM_DATA_ROOT, 'tfrecords/train/max_seq_len_128_max_predictions_per_seq_20_masked_lm_prob_15']),\n",
    "    \"val_dir\": '/'.join([SM_DATA_ROOT, 'tfrecords/validation/max_seq_len_128_max_predictions_per_seq_20_masked_lm_prob_15']), \n",
    "    \"log_dir\": '/'.join([SM_DATA_ROOT, 'checkpoints/bert/logs']), \n",
    "    \"checkpoint_dir\": '/'.join([SM_DATA_ROOT, 'checkpoints/bert']), \n",
    "    \"load_from\": \"scratch\", \n",
    "    \"model_type\": \"bert\", \n",
    "    \"model_size\": \"large\", \n",
    "    \"per_gpu_batch_size\": 64, \n",
    "    \"max_seq_length\": 128,\n",
    "    \"max_predictions_per_seq\": 20, \n",
    "    \"optimizer\": \"lamb\", \n",
    "    \"learning_rate\": 0.005, \n",
    "    \"end_learning_rate\": 0.0003, \n",
    "    \"hidden_dropout_prob\": 0.1, \n",
    "    \"attention_probs_dropout_prob\": 0.1,\n",
    "    \"gradient_accumulation_steps\": 1,\n",
    "    \"learning_rate_decay_power\": 0.5, \n",
    "    \"warmup_steps\": 2812, \n",
    "    \"total_steps\": 2000, \n",
    "    \"log_frequency\": 10,\n",
    "    \"run_name\" : job_name,\n",
    "    \"squad_frequency\": 0\n",
    "    }"
   ]
  },
  {
   "cell_type": "code",
   "execution_count": null,
   "metadata": {},
   "outputs": [],
   "source": [
    "estimator = TensorFlow(entry_point='albert/run_pretraining.py',\n",
    "                        role=role,\n",
    "                        image_uri=docker_image,\n",
    "                        source_dir='deep-learning-models/models/nlp',\n",
    "                        framework_version='2.4.1',\n",
    "                        py_version='py37',\n",
    "                        instance_count=instance_count,\n",
    "                        instance_type=instance_type,\n",
    "                        sagemaker_session=sagemaker_session,\n",
    "                        subnets=subnets,\n",
    "                        hyperparameters=hyperparameters,\n",
    "                        security_group_ids=security_group_ids,\n",
    "                        debugger_hook_config=False,\n",
    "                        # Training using SMDataParallel Distributed Training Framework\n",
    "                        distribution={'smdistributed':{\n",
    "                                        'dataparallel':{\n",
    "                                                'enabled': True\n",
    "                                            }\n",
    "                                        }\n",
    "                                      }\n",
    "                      )"
   ]
  },
  {
   "cell_type": "code",
   "execution_count": null,
   "metadata": {},
   "outputs": [],
   "source": [
    "# Configure FSx Input for your SageMaker Training job\n",
    "\n",
    "from sagemaker.inputs import FileSystemInput\n",
    "#YOUR_MOUNT_PATH_FOR_TRAINING_DATA # NOTE: '/fsx/' will be the root mount path. Example: '/fsx/albert''''\n",
    "file_system_directory_path='<FSX_DIRECTORY_PATH>' \n",
    "file_system_access_mode='rw'\n",
    "file_system_type='FSxLustre'\n",
    "train_fs = FileSystemInput(file_system_id=file_system_id,\n",
    "                                    file_system_type=file_system_type,\n",
    "                                    directory_path=file_system_directory_path,\n",
    "                                    file_system_access_mode=file_system_access_mode)\n",
    "data_channels = {'train': train_fs}"
   ]
  },
  {
   "cell_type": "code",
   "execution_count": null,
   "metadata": {},
   "outputs": [],
   "source": [
    "# Submit SageMaker training job\n",
    "estimator.fit(inputs=data_channels, job_name=job_name)"
   ]
  }
 ],
 "metadata": {
  "instance_type": "ml.t3.medium",
  "kernelspec": {
   "display_name": "Python 3 (TensorFlow 2.3 Python 3.7 CPU Optimized)",
   "language": "python",
   "name": "python3__SAGEMAKER_INTERNAL__arn:aws:sagemaker:us-east-1:081325390199:image/tensorflow-2.3-cpu-py37-ubuntu18.04-v1"
  },
  "language_info": {
   "codemirror_mode": {
    "name": "ipython",
    "version": 3
   },
   "file_extension": ".py",
   "mimetype": "text/x-python",
   "name": "python",
   "nbconvert_exporter": "python",
   "pygments_lexer": "ipython3",
   "version": "3.7.10"
  }
 },
 "nbformat": 4,
 "nbformat_minor": 4
}
